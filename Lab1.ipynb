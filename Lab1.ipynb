{
  "cells": [
    {
      "cell_type": "markdown",
      "metadata": {
        "id": "view-in-github",
        "colab_type": "text"
      },
      "source": [
        "<a href=\"https://colab.research.google.com/github/mikonistealscode/perceptron/blob/main/Lab1.ipynb\" target=\"_parent\"><img src=\"https://colab.research.google.com/assets/colab-badge.svg\" alt=\"Open In Colab\"/></a>"
      ]
    },
    {
      "cell_type": "code",
      "execution_count": 1,
      "metadata": {
        "id": "W_lTOiuNrbYY"
      },
      "outputs": [],
      "source": [
        "import numpy as np"
      ]
    },
    {
      "cell_type": "code",
      "source": [
        "import numpy as np\n",
        "\n",
        "targets = {}\n",
        "targets[\"AND\"] = [0, 0, 0, 1]\n",
        "targets[\"OR\"] = [0, 1, 1, 1]\n",
        "targets[\"NOT\"] = [1, 0]\n",
        "\n",
        "\n",
        "w = np.array([0.6, 0.6])\n",
        "b= 0\n",
        "nu = 0.5  # Learning rate\n",
        "T = 1  # Threshold\n",
        "\n",
        "\n",
        "def updateWeights(x, w, b, p, t):\n",
        "    print(f\"Initial Weights: {w} and Bias: {b}\")\n",
        "    b = b + nu * (t - p)\n",
        "    w = w + nu * (t - p) * x\n",
        "    return w, b\n",
        "\n",
        "\n",
        "def unitStep(v):\n",
        "    return 1 if v >= T else 0\n",
        "\n",
        "def perceptronModel(x, w, b, gate):\n",
        "    print(f\"Inputs: {x}, Weights: {w}, Bias: {b}\")\n",
        "    v = np.dot(w, x) + b\n",
        "    y_pred = unitStep(v)\n",
        "    print(f\"Predicted: {y_pred}\")\n",
        "\n",
        "    if gate == \"NOT\":\n",
        "        y_targ = targets[\"NOT\"][x]\n",
        "        print(f\"Target: {y_targ}\")\n",
        "\n",
        "        if y_pred == y_targ:\n",
        "            print(\"Prediction matches target.\")\n",
        "            return y_pred\n",
        "        else:\n",
        "            w, b = updateWeights(x, w, b, y_pred, y_targ)\n",
        "            print(\"Weights and Bias updated for NOT.\")\n",
        "            return perceptronModel(x, w, b, gate)\n",
        "\n",
        "    else:\n",
        "        target_index = int(''.join(map(str, x)), 2)\n",
        "        y_targ = targets[gate][target_index]\n",
        "        print(f\"Target: {y_targ}\")\n",
        "\n",
        "        if y_pred == y_targ:\n",
        "            print(\"Prediction matches target.\")\n",
        "            return y_pred\n",
        "        else:\n",
        "            w, b = updateWeights(x, w, b, y_pred, y_targ)\n",
        "            print(\"Weights and Bias updated.\")\n",
        "            return perceptronModel(x, w, b, gate)\n",
        "\n",
        "\n",
        "def NOT_logicFunction(x):\n",
        "    gate = \"NOT\"\n",
        "    wNOT = w[0]\n",
        "    return perceptronModel(x, wNOT, b, gate)\n",
        "\n",
        "def AND_logicFunction(x):\n",
        "    gate = \"AND\"\n",
        "    return perceptronModel(x, w, b, gate)\n",
        "\n",
        "def OR_logicFunction(x):\n",
        "    gate = \"OR\"\n",
        "    return perceptronModel(x, w, b, gate)\n",
        "\n",
        "def XOR_logicFunction(x):\n",
        "    y1 = AND_logicFunction(x)\n",
        "    y2 = OR_logicFunction(x)\n",
        "    y3 = NOT_logicFunction(y1)\n",
        "    final_x = np.array([y2, y3])\n",
        "    finalOutput = AND_logicFunction(final_x)\n",
        "    return finalOutput"
      ],
      "metadata": {
        "id": "T4rikxSctmRc"
      },
      "execution_count": 13,
      "outputs": []
    },
    {
      "cell_type": "code",
      "execution_count": 15,
      "metadata": {
        "colab": {
          "base_uri": "https://localhost:8080/"
        },
        "id": "bQ6BDjfprbY3",
        "outputId": "15352198-4517-49f2-d504-7cd21ac2722e"
      },
      "outputs": [
        {
          "output_type": "stream",
          "name": "stdout",
          "text": [
            "A: 1\n",
            "B: 0\n",
            "Inputs: [1 0], Weights: [0.6 0.6], Bias: 0\n",
            "Predicted: 0\n",
            "Target: 0\n",
            "Prediction matches target.\n",
            "Inputs: [1 0], Weights: [0.6 0.6], Bias: 0\n",
            "Predicted: 0\n",
            "Target: 1\n",
            "Initial Weights: [0.6 0.6] and Bias: 0\n",
            "Weights and Bias updated.\n",
            "Inputs: [1 0], Weights: [1.1 0.6], Bias: 0.5\n",
            "Predicted: 1\n",
            "Target: 1\n",
            "Prediction matches target.\n",
            "Inputs: 0, Weights: 0.6, Bias: 0\n",
            "Predicted: 0\n",
            "Target: 1\n",
            "Initial Weights: 0.6 and Bias: 0\n",
            "Weights and Bias updated for NOT.\n",
            "Inputs: 0, Weights: 0.6, Bias: 0.5\n",
            "Predicted: 0\n",
            "Target: 1\n",
            "Initial Weights: 0.6 and Bias: 0.5\n",
            "Weights and Bias updated for NOT.\n",
            "Inputs: 0, Weights: 0.6, Bias: 1.0\n",
            "Predicted: 1\n",
            "Target: 1\n",
            "Prediction matches target.\n",
            "Inputs: [1 1], Weights: [0.6 0.6], Bias: 0\n",
            "Predicted: 1\n",
            "Target: 1\n",
            "Prediction matches target.\n",
            "XOR[1 0] = 1\n"
          ]
        }
      ],
      "source": [
        "a = int(input(\"A: \"))\n",
        "b = int(input(\"B: \"))\n",
        "test = np.array([a,b])\n",
        "# print(f\"AND{test} = {AND_logicFunction(test)}\")\n",
        "# print(f\" OR{test} = {OR_logicFunction(test)}\")\n",
        "# print(f\"NOT{test} = {NOT_logicFunction(test)}\")\n",
        "print(f\"XOR{test} = {XOR_logicFunction(test)}\")"
      ]
    },
    {
      "cell_type": "code",
      "source": [
        "test = np.array([0,0])\n",
        "print(f\"XOR{test} = {XOR_logicFunction(test)}\")"
      ],
      "metadata": {
        "colab": {
          "base_uri": "https://localhost:8080/"
        },
        "id": "_BSt52TbvjFq",
        "outputId": "d4a9c8dd-8369-4cc1-a974-9ceb37d6c55b"
      },
      "execution_count": 18,
      "outputs": [
        {
          "output_type": "stream",
          "name": "stdout",
          "text": [
            "Inputs: [0 0], Weights: [0.6 0.6], Bias: 0\n",
            "Predicted: 0\n",
            "Target: 0\n",
            "Prediction matches target.\n",
            "Inputs: [0 0], Weights: [0.6 0.6], Bias: 0\n",
            "Predicted: 0\n",
            "Target: 0\n",
            "Prediction matches target.\n",
            "Inputs: 0, Weights: 0.6, Bias: 0\n",
            "Predicted: 0\n",
            "Target: 1\n",
            "Initial Weights: 0.6 and Bias: 0\n",
            "Weights and Bias updated for NOT.\n",
            "Inputs: 0, Weights: 0.6, Bias: 0.5\n",
            "Predicted: 0\n",
            "Target: 1\n",
            "Initial Weights: 0.6 and Bias: 0.5\n",
            "Weights and Bias updated for NOT.\n",
            "Inputs: 0, Weights: 0.6, Bias: 1.0\n",
            "Predicted: 1\n",
            "Target: 1\n",
            "Prediction matches target.\n",
            "Inputs: [0 1], Weights: [0.6 0.6], Bias: 0\n",
            "Predicted: 0\n",
            "Target: 0\n",
            "Prediction matches target.\n",
            "XOR[0 0] = 0\n"
          ]
        }
      ]
    },
    {
      "cell_type": "code",
      "source": [
        "test = np.array([0,1])\n",
        "print(f\"XOR{test} = {XOR_logicFunction(test)}\")"
      ],
      "metadata": {
        "colab": {
          "base_uri": "https://localhost:8080/"
        },
        "id": "nH2V03avvzTb",
        "outputId": "cb696434-ebde-484c-93f5-f19bf4644602"
      },
      "execution_count": 19,
      "outputs": [
        {
          "output_type": "stream",
          "name": "stdout",
          "text": [
            "Inputs: [0 1], Weights: [0.6 0.6], Bias: 0\n",
            "Predicted: 0\n",
            "Target: 0\n",
            "Prediction matches target.\n",
            "Inputs: [0 1], Weights: [0.6 0.6], Bias: 0\n",
            "Predicted: 0\n",
            "Target: 1\n",
            "Initial Weights: [0.6 0.6] and Bias: 0\n",
            "Weights and Bias updated.\n",
            "Inputs: [0 1], Weights: [0.6 1.1], Bias: 0.5\n",
            "Predicted: 1\n",
            "Target: 1\n",
            "Prediction matches target.\n",
            "Inputs: 0, Weights: 0.6, Bias: 0\n",
            "Predicted: 0\n",
            "Target: 1\n",
            "Initial Weights: 0.6 and Bias: 0\n",
            "Weights and Bias updated for NOT.\n",
            "Inputs: 0, Weights: 0.6, Bias: 0.5\n",
            "Predicted: 0\n",
            "Target: 1\n",
            "Initial Weights: 0.6 and Bias: 0.5\n",
            "Weights and Bias updated for NOT.\n",
            "Inputs: 0, Weights: 0.6, Bias: 1.0\n",
            "Predicted: 1\n",
            "Target: 1\n",
            "Prediction matches target.\n",
            "Inputs: [1 1], Weights: [0.6 0.6], Bias: 0\n",
            "Predicted: 1\n",
            "Target: 1\n",
            "Prediction matches target.\n",
            "XOR[0 1] = 1\n"
          ]
        }
      ]
    },
    {
      "cell_type": "code",
      "source": [
        "test = np.array([1,1])\n",
        "print(f\"XOR{test} = {XOR_logicFunction(test)}\")"
      ],
      "metadata": {
        "colab": {
          "base_uri": "https://localhost:8080/"
        },
        "id": "JeUbP0qHv2j3",
        "outputId": "08ec0cd0-d17b-41e5-9dac-2e8726d5033b"
      },
      "execution_count": 20,
      "outputs": [
        {
          "output_type": "stream",
          "name": "stdout",
          "text": [
            "Inputs: [1 1], Weights: [0.6 0.6], Bias: 0\n",
            "Predicted: 1\n",
            "Target: 1\n",
            "Prediction matches target.\n",
            "Inputs: [1 1], Weights: [0.6 0.6], Bias: 0\n",
            "Predicted: 1\n",
            "Target: 1\n",
            "Prediction matches target.\n",
            "Inputs: 1, Weights: 0.6, Bias: 0\n",
            "Predicted: 0\n",
            "Target: 0\n",
            "Prediction matches target.\n",
            "Inputs: [1 0], Weights: [0.6 0.6], Bias: 0\n",
            "Predicted: 0\n",
            "Target: 0\n",
            "Prediction matches target.\n",
            "XOR[1 1] = 0\n"
          ]
        }
      ]
    },
    {
      "cell_type": "code",
      "source": [
        "x = 1\n",
        "target_index = int(str(x), 2)\n",
        "target_index"
      ],
      "metadata": {
        "colab": {
          "base_uri": "https://localhost:8080/"
        },
        "id": "9xWyzYbNumJa",
        "outputId": "c5453792-854a-4560-8a74-5c1525d4c161"
      },
      "execution_count": 11,
      "outputs": [
        {
          "output_type": "execute_result",
          "data": {
            "text/plain": [
              "1"
            ]
          },
          "metadata": {},
          "execution_count": 11
        }
      ]
    },
    {
      "cell_type": "code",
      "execution_count": null,
      "metadata": {
        "id": "t2bnvLlPrbY_",
        "outputId": "8e825f08-05b8-44a0-b623-56f7eb17b74b"
      },
      "outputs": [
        {
          "data": {
            "text/plain": [
              "3"
            ]
          },
          "execution_count": 23,
          "metadata": {},
          "output_type": "execute_result"
        }
      ],
      "source": [
        "w = np.array([1,1])\n",
        "int(''.join(map(str, w)),2)"
      ]
    },
    {
      "cell_type": "code",
      "execution_count": null,
      "metadata": {
        "id": "3jBxe-k5rbZD",
        "outputId": "f08d5f3b-a9d7-4940-f8f2-7cc7ab2151b8"
      },
      "outputs": [
        {
          "data": {
            "text/plain": [
              "2"
            ]
          },
          "execution_count": 35,
          "metadata": {},
          "output_type": "execute_result"
        }
      ],
      "source": [
        "myDict = {}\n",
        "\n",
        "# Adding list as value\n",
        "myDict[\"key1\"] = [1, 2]\n",
        "myDict[\"key2\"] = [\"Geeks\", \"For\", \"Geeks\"]\n",
        "\n",
        "myDict[\"key1\"][-1]"
      ]
    },
    {
      "cell_type": "code",
      "execution_count": null,
      "metadata": {
        "id": "3UkLV6wLrbZG"
      },
      "outputs": [],
      "source": []
    }
  ],
  "metadata": {
    "kernelspec": {
      "display_name": "Python 3",
      "language": "python",
      "name": "python3"
    },
    "language_info": {
      "codemirror_mode": {
        "name": "ipython",
        "version": 3
      },
      "file_extension": ".py",
      "mimetype": "text/x-python",
      "name": "python",
      "nbconvert_exporter": "python",
      "pygments_lexer": "ipython3",
      "version": "3.12.2"
    },
    "colab": {
      "provenance": [],
      "include_colab_link": true
    }
  },
  "nbformat": 4,
  "nbformat_minor": 0
}