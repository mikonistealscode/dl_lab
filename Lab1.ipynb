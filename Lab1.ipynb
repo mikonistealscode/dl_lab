{
 "cells": [
  {
   "cell_type": "code",
   "execution_count": 2,
   "metadata": {},
   "outputs": [],
   "source": [
    "import numpy as np"
   ]
  },
  {
   "cell_type": "code",
   "execution_count": 77,
   "metadata": {},
   "outputs": [],
   "source": [
    "targets = {}\n",
    "\n",
    "# targets[\"XOR\"] = [0,1,1,0]\n",
    "targets[\"AND\"] = [0,0,0,1]\n",
    "targets[\"OR\"] = [0,1,1,1]\n",
    "\n",
    "\n",
    "nu = 0.5\n",
    "T = 1 #threshold\n",
    "\n",
    "def updateWeights(x,w,b,p,t):\n",
    "    print(f\"Initial Weights{w} and Bias {b}\")\n",
    "    b = b + nu*(t-p)\n",
    "    w = w + nu*(t-p)*x\n",
    "    # print(f\"Updated Weights{w} and Bias {b}\")\n",
    "    return w,b\n",
    "\n",
    "#Unit Step Function\n",
    "def unitStep(v):\n",
    "    if v>=T:\n",
    "        return 1\n",
    "    else:\n",
    "        return 0\n",
    "\n",
    "#Perceptron Model\n",
    "def perceptronModel(x,w,b,gate):\n",
    "    print(x,w,b)\n",
    "    v = np.dot(w,x) + b\n",
    "    y_pred = unitStep(v)\n",
    "    # print(gate) \n",
    "    print(\"PRED\",y_pred)\n",
    "    if gate == \"NOT\":\n",
    "        return y_pred\n",
    "    else:\n",
    "        target_index = int(''.join(map(str, x)),2)\n",
    "        y_targ = targets[gate][target_index]        \n",
    "        print(\"TARG\",y_targ)\n",
    "        if y_pred == y_targ:\n",
    "            print(\"EQUAL\",y_pred)\n",
    "            return y_pred\n",
    "        else:\n",
    "            w,b = updateWeights(x,w,b,y_pred, y_targ)\n",
    "            print(\"out\")\n",
    "            print(f\"Updated Weights{w} and Bias {b}\")\n",
    "            perceptronModel(x,w,b,gate)\n",
    "\n",
    "\n",
    "#Gates\n",
    "def NOT_logicFunction(x):\n",
    "    gate = \"NOT\"\n",
    "    wNOT = 0.6\n",
    "    bNOT = 0\n",
    "    return perceptronModel(x,wNOT,bNOT,gate)\n",
    "\n",
    "def AND_logicFunction(x):\n",
    "    gate = \"AND\"\n",
    "    w = np.array([0.6,0.6])\n",
    "    bAND = 0\n",
    "    return perceptronModel(x,w,bAND,gate)\n",
    "\n",
    "def OR_logicFunction(x):\n",
    "    gate = \"OR\"\n",
    "    w = np.array([0.6,0.6])\n",
    "    bOR = 0\n",
    "    return perceptronModel(x,w,bOR,gate)\n",
    "\n",
    "def XOR_logicFunction(x):\n",
    "    y1 = AND_logicFunction(x)\n",
    "    y2 = OR_logicFunction(x)\n",
    "    y3 = NOT_logicFunction(y1)\n",
    "    final_x = np.array([y2,y3])\n",
    "    # print(f\"final_X{final_x}\")\n",
    "    finalOutput = AND_logicFunction(final_x)\n",
    "    return finalOutput\n"
   ]
  },
  {
   "cell_type": "code",
   "execution_count": 79,
   "metadata": {},
   "outputs": [
    {
     "name": "stdout",
     "output_type": "stream",
     "text": [
      "[0 1] [0.6 0.6] 0\n",
      "PRED 0\n",
      "TARG 0\n",
      "EQUAL 0\n",
      "[0 1] [0.6 0.6] 0\n",
      "PRED 0\n",
      "TARG 1\n",
      "Initial Weights[0.6 0.6] and Bias 0\n",
      "out\n",
      "Updated Weights[0.6 1.1] and Bias 0.5\n",
      "[0 1] [0.6 1.1] 0.5\n",
      "PRED 1\n",
      "TARG 1\n",
      "EQUAL 1\n",
      "0 0.6 0\n",
      "PRED 0\n",
      "[None 0] [0.6 0.6] 0\n"
     ]
    },
    {
     "ename": "TypeError",
     "evalue": "unsupported operand type(s) for *: 'float' and 'NoneType'",
     "output_type": "error",
     "traceback": [
      "\u001b[1;31m---------------------------------------------------------------------------\u001b[0m",
      "\u001b[1;31mTypeError\u001b[0m                                 Traceback (most recent call last)",
      "Cell \u001b[1;32mIn[79], line 7\u001b[0m\n\u001b[0;32m      3\u001b[0m test \u001b[38;5;241m=\u001b[39m np\u001b[38;5;241m.\u001b[39marray([a,b])\n\u001b[0;32m      4\u001b[0m \u001b[38;5;66;03m# print(f\"AND{test} = {AND_logicFunction(test)}\")\u001b[39;00m\n\u001b[0;32m      5\u001b[0m \u001b[38;5;66;03m# print(f\" OR{test} = {OR_logicFunction(test)}\")\u001b[39;00m\n\u001b[0;32m      6\u001b[0m \u001b[38;5;66;03m# print(f\"NOT{test} = {NOT_logicFunction(test)}\")\u001b[39;00m\n\u001b[1;32m----> 7\u001b[0m \u001b[38;5;28mprint\u001b[39m(\u001b[38;5;124mf\u001b[39m\u001b[38;5;124m\"\u001b[39m\u001b[38;5;124mXOR\u001b[39m\u001b[38;5;132;01m{\u001b[39;00mtest\u001b[38;5;132;01m}\u001b[39;00m\u001b[38;5;124m = \u001b[39m\u001b[38;5;132;01m{\u001b[39;00m\u001b[43mXOR_logicFunction\u001b[49m\u001b[43m(\u001b[49m\u001b[43mtest\u001b[49m\u001b[43m)\u001b[49m\u001b[38;5;132;01m}\u001b[39;00m\u001b[38;5;124m\"\u001b[39m)\n",
      "Cell \u001b[1;32mIn[77], line 73\u001b[0m, in \u001b[0;36mXOR_logicFunction\u001b[1;34m(x)\u001b[0m\n\u001b[0;32m     71\u001b[0m final_x \u001b[38;5;241m=\u001b[39m np\u001b[38;5;241m.\u001b[39marray([y2,y3])\n\u001b[0;32m     72\u001b[0m \u001b[38;5;66;03m# print(f\"final_X{final_x}\")\u001b[39;00m\n\u001b[1;32m---> 73\u001b[0m finalOutput \u001b[38;5;241m=\u001b[39m \u001b[43mAND_logicFunction\u001b[49m\u001b[43m(\u001b[49m\u001b[43mfinal_x\u001b[49m\u001b[43m)\u001b[49m\n\u001b[0;32m     74\u001b[0m \u001b[38;5;28;01mreturn\u001b[39;00m finalOutput\n",
      "Cell \u001b[1;32mIn[77], line 59\u001b[0m, in \u001b[0;36mAND_logicFunction\u001b[1;34m(x)\u001b[0m\n\u001b[0;32m     57\u001b[0m w \u001b[38;5;241m=\u001b[39m np\u001b[38;5;241m.\u001b[39marray([\u001b[38;5;241m0.6\u001b[39m,\u001b[38;5;241m0.6\u001b[39m])\n\u001b[0;32m     58\u001b[0m bAND \u001b[38;5;241m=\u001b[39m \u001b[38;5;241m0\u001b[39m\n\u001b[1;32m---> 59\u001b[0m \u001b[38;5;28;01mreturn\u001b[39;00m \u001b[43mperceptronModel\u001b[49m\u001b[43m(\u001b[49m\u001b[43mx\u001b[49m\u001b[43m,\u001b[49m\u001b[43mw\u001b[49m\u001b[43m,\u001b[49m\u001b[43mbAND\u001b[49m\u001b[43m,\u001b[49m\u001b[43mgate\u001b[49m\u001b[43m)\u001b[49m\n",
      "Cell \u001b[1;32mIn[77], line 28\u001b[0m, in \u001b[0;36mperceptronModel\u001b[1;34m(x, w, b, gate)\u001b[0m\n\u001b[0;32m     26\u001b[0m \u001b[38;5;28;01mdef\u001b[39;00m \u001b[38;5;21mperceptronModel\u001b[39m(x,w,b,gate):\n\u001b[0;32m     27\u001b[0m     \u001b[38;5;28mprint\u001b[39m(x,w,b)\n\u001b[1;32m---> 28\u001b[0m     v \u001b[38;5;241m=\u001b[39m \u001b[43mnp\u001b[49m\u001b[38;5;241;43m.\u001b[39;49m\u001b[43mdot\u001b[49m\u001b[43m(\u001b[49m\u001b[43mw\u001b[49m\u001b[43m,\u001b[49m\u001b[43mx\u001b[49m\u001b[43m)\u001b[49m \u001b[38;5;241m+\u001b[39m b\n\u001b[0;32m     29\u001b[0m     y_pred \u001b[38;5;241m=\u001b[39m unitStep(v)\n\u001b[0;32m     30\u001b[0m     \u001b[38;5;66;03m# print(gate) \u001b[39;00m\n",
      "\u001b[1;31mTypeError\u001b[0m: unsupported operand type(s) for *: 'float' and 'NoneType'"
     ]
    }
   ],
   "source": [
    "a = int(input(\"A\"))\n",
    "b = int(input(\"B\"))\n",
    "test = np.array([a,b])\n",
    "# print(f\"AND{test} = {AND_logicFunction(test)}\")\n",
    "# print(f\" OR{test} = {OR_logicFunction(test)}\")\n",
    "# print(f\"NOT{test} = {NOT_logicFunction(test)}\")\n",
    "print(f\"XOR{test} = {XOR_logicFunction(test)}\")"
   ]
  },
  {
   "cell_type": "code",
   "execution_count": 23,
   "metadata": {},
   "outputs": [
    {
     "data": {
      "text/plain": [
       "3"
      ]
     },
     "execution_count": 23,
     "metadata": {},
     "output_type": "execute_result"
    }
   ],
   "source": [
    "w = np.array([1,1])\n",
    "int(''.join(map(str, w)),2)"
   ]
  },
  {
   "cell_type": "code",
   "execution_count": 35,
   "metadata": {},
   "outputs": [
    {
     "data": {
      "text/plain": [
       "2"
      ]
     },
     "execution_count": 35,
     "metadata": {},
     "output_type": "execute_result"
    }
   ],
   "source": [
    "myDict = {}\n",
    " \n",
    "# Adding list as value\n",
    "myDict[\"key1\"] = [1, 2]\n",
    "myDict[\"key2\"] = [\"Geeks\", \"For\", \"Geeks\"] \n",
    "\n",
    "myDict[\"key1\"][-1]"
   ]
  },
  {
   "cell_type": "code",
   "execution_count": null,
   "metadata": {},
   "outputs": [],
   "source": []
  }
 ],
 "metadata": {
  "kernelspec": {
   "display_name": "Python 3",
   "language": "python",
   "name": "python3"
  },
  "language_info": {
   "codemirror_mode": {
    "name": "ipython",
    "version": 3
   },
   "file_extension": ".py",
   "mimetype": "text/x-python",
   "name": "python",
   "nbconvert_exporter": "python",
   "pygments_lexer": "ipython3",
   "version": "3.12.2"
  }
 },
 "nbformat": 4,
 "nbformat_minor": 2
}
